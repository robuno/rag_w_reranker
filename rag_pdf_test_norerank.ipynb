{
  "cells": [
    {
      "cell_type": "markdown",
      "metadata": {
        "id": "geoQ-X8GxcID"
      },
      "source": [
        "## 0) Packages"
      ]
    },
    {
      "cell_type": "code",
      "execution_count": null,
      "metadata": {
        "id": "72f_15XgoXdd"
      },
      "outputs": [],
      "source": [
        "!pip install -q torch transformers\n",
        "!pip install -q accelerate bitsandbytes\n",
        "!pip install -q sentence-transformers\n",
        "!pip install -q faiss-gpu\n",
        "# !pip install -q faiss\n",
        "# !pip install -q faiss-cpu\n",
        "\n",
        "!pip install --upgrade --quiet  cohere\n",
        "!pip install pypdf datasets\n",
        "!pip install -q langchain\n",
        "!pip install ragas==0.1.4\n",
        "# !pip install torch torchvision -U"
      ]
    },
    {
      "cell_type": "code",
      "execution_count": 48,
      "metadata": {
        "id": "FJErblUvHIMX"
      },
      "outputs": [],
      "source": [
        "import getpass\n",
        "import os\n",
        "from getpass import getpass\n",
        "from utils.utils_print import pretty_print_docs\n",
        "from utils.utils_dset import get_knet_all_urls, get_knet_urls_recursive\n",
        "import pandas as pd\n",
        "\n",
        "# for Google Colab users:\n",
        "# import locale\n",
        "# locale.getpreferredencoding = lambda: \"UTF-8\"\n",
        "\n",
        "# import torch\n",
        "# device = torch.device('cuda') if torch.cuda.is_available() else torch.device('cpu')\n",
        "# print('Running on', device)"
      ]
    },
    {
      "cell_type": "code",
      "execution_count": null,
      "metadata": {
        "id": "eousjPVtou6B"
      },
      "outputs": [],
      "source": [
        "# # If required:\n",
        "# ACCESS_TOKEN_GITHUB = getpass(\"Github Personal Token: \")\n",
        "# ACCES_TOKEN_HugF = getpass(\"HuggingFace Token: \")"
      ]
    },
    {
      "cell_type": "code",
      "execution_count": null,
      "metadata": {
        "id": "z0gJzaAVJcGZ"
      },
      "outputs": [],
      "source": [
        "os.environ[\"COHERE_API_KEY\"] = getpass(\"Cohere API Key:\")"
      ]
    },
    {
      "cell_type": "markdown",
      "metadata": {
        "id": "VRMmNbPHMIML"
      },
      "source": [
        "## 1) Dataset"
      ]
    },
    {
      "cell_type": "markdown",
      "source": [
        "1. If you have a .csv file you can use this cell to load your documents:"
      ],
      "metadata": {
        "id": "0ah8m7Up2ezB"
      }
    },
    {
      "cell_type": "code",
      "execution_count": null,
      "metadata": {
        "id": "8np-BYPqwAtp"
      },
      "outputs": [],
      "source": [
        "# # If you do not have a dataset with\n",
        "# # four column: question, ground_truth, answer, context,\n",
        "# # but still want to upload CSV with full of\n",
        "# # text and text source, select column and metadata source:\n",
        "\n",
        "from langchain.document_loaders.csv_loader import CSVLoader\n",
        "\n",
        "df = pd.read_csv('./knet_v1_indFalse (1).csv')\n",
        "\n",
        "\n",
        "loader = CSVLoader(file_path='./knet_v1_indFalse (1).csv',\n",
        "                   source_column=\"p_content\",\n",
        "                   metadata_columns = [\"url\"]\n",
        "                   )\n",
        "docs = loader.load()\n",
        "\n",
        "print(len(docs))\n",
        "print(docs[2].metadata[\"url\"])\n",
        "\n",
        "df.head()"
      ]
    },
    {
      "cell_type": "markdown",
      "source": [
        "2. If you have multiple .pdf files, you can use this cell:"
      ],
      "metadata": {
        "id": "z8BaX5jC2u1P"
      }
    },
    {
      "cell_type": "code",
      "source": [
        "# PDF Text Loader\n",
        "\n",
        "from langchain.document_loaders import PyPDFLoader, DirectoryLoader\n",
        "# loader = TextLoader('single_text_file.pdf')\n",
        "loader = DirectoryLoader('./pdf_sources/',\n",
        "                         glob=\"./*.pdf\",\n",
        "                         loader_cls=PyPDFLoader\n",
        "                         )\n",
        "\n",
        "docs = loader.load()\n",
        "len(docs)"
      ],
      "metadata": {
        "id": "6p8LJE4Z4XI5"
      },
      "execution_count": null,
      "outputs": []
    },
    {
      "cell_type": "markdown",
      "source": [
        "3. If you have a .csv file with question-answer-ground truth-context\n",
        "columns, you can use this cell to load your documents:\n"
      ],
      "metadata": {
        "id": "ie8G6Ewq2l3k"
      }
    },
    {
      "cell_type": "code",
      "execution_count": null,
      "metadata": {
        "id": "-wTQ5Vb2xcIG"
      },
      "outputs": [],
      "source": [
        "### Load Dataset\n",
        "\n",
        "from datasets import load_dataset\n",
        "\n",
        "# create Q&A in format of CSV with DF\n",
        "DSET_SOURCE = \"XXXXX\"\n",
        "\n",
        "qa_docs = load_dataset(DSET_SOURCE)\n",
        "df_docs = pd.DataFrame.from_dict(qa_docs)\n",
        "print(\"DataFrame length:\",len(df_docs))\n",
        "\n",
        "df_docs.to_csv('df_qa.csv', index=False)\n",
        "df_docs.head()\n"
      ]
    },
    {
      "cell_type": "code",
      "execution_count": null,
      "metadata": {
        "id": "zagV8T01xcIG"
      },
      "outputs": [],
      "source": [
        "### Get context and load as docs\n",
        "df_contexts = df_docs.drop(['answer',\"ground_truth\", \"question\"],\n",
        "                                      axis=1)\n",
        "df_contexts.to_csv('df_contexts.csv', index=False)\n",
        "df_contexts.head()"
      ]
    },
    {
      "cell_type": "code",
      "execution_count": null,
      "metadata": {
        "id": "gQxWh8DCxcIG"
      },
      "outputs": [],
      "source": [
        "from langchain.document_loaders.csv_loader import CSVLoader\n",
        "loader_contexts = CSVLoader(file_path='./df_answers.csv',\n",
        "                   )\n",
        "docs = loader_contexts.load()\n",
        "print(len(docs))\n",
        "docs[:5]"
      ]
    },
    {
      "cell_type": "code",
      "execution_count": null,
      "metadata": {
        "id": "7of5i-Zg0hIi"
      },
      "outputs": [],
      "source": [
        "IND = 26\n",
        "print(docs[IND].metadata[\"source\"])\n",
        "print(docs[IND].page_content)"
      ]
    },
    {
      "cell_type": "code",
      "execution_count": null,
      "metadata": {
        "id": "o7xC6uKQ0c6X"
      },
      "outputs": [],
      "source": [
        "for u in docs:\n",
        "  print(u.metadata[\"url\"])"
      ]
    },
    {
      "cell_type": "markdown",
      "metadata": {
        "id": "0dF0JylDm7p2"
      },
      "source": [
        "### 1.1) Text Splitter"
      ]
    },
    {
      "cell_type": "code",
      "execution_count": null,
      "metadata": {
        "id": "a1ZwueQpIWmc"
      },
      "outputs": [],
      "source": [
        "from langchain.text_splitter import RecursiveCharacterTextSplitter\n",
        "# from utils.utils_dset import MARKDOWN_SEPARATORS        # use it with arg 'seperators'\n",
        "\n",
        "splitter = RecursiveCharacterTextSplitter(chunk_size = 512,\n",
        "                                          chunk_overlap = 64,\n",
        "                                          add_start_index=True,         # add chunk's start index in metadata\n",
        "                                        #   strip_whitespace=True,        # start and end of every doc\n",
        "                                          )\n",
        "\n",
        "chunked_docs = splitter.split_documents(docs)\n",
        "print(len(chunked_docs))"
      ]
    },
    {
      "cell_type": "markdown",
      "metadata": {
        "id": "yv125JGGe50V"
      },
      "source": [
        "## 2) Embeddings"
      ]
    },
    {
      "cell_type": "code",
      "execution_count": 41,
      "metadata": {
        "id": "RBNwUmZ2J84p"
      },
      "outputs": [],
      "source": [
        "from langchain.vectorstores import FAISS\n",
        "from langchain_community.embeddings import HuggingFaceEmbeddings\n",
        "from langchain_community.vectorstores.utils import DistanceStrategy\n",
        "\n",
        "device = \"cuda\"\n",
        "\n",
        "model_kwargs = {'device': device}\n",
        "encode_kwargs = {'normalize_embeddings': True}  # set True for cosine similarity\n",
        "\n",
        "\n",
        "# model_name = \"thenlper/gte-small\"\n",
        "# model_name = \"BAAI/bge-large-en\"\n",
        "model_name = \"BAAI/bge-base-en\"\n",
        "\n",
        "embeddings = HuggingFaceEmbeddings(\n",
        "    model_name=model_name,\n",
        "    multi_process=True,\n",
        "    model_kwargs = model_kwargs,\n",
        "    encode_kwargs = encode_kwargs\n",
        ")\n",
        "\n"
      ]
    },
    {
      "cell_type": "markdown",
      "metadata": {
        "id": "p7k8Je3Ce6_c"
      },
      "source": [
        "## 3) DB and Retriever"
      ]
    },
    {
      "cell_type": "code",
      "execution_count": 43,
      "metadata": {
        "id": "PaqKb0z0JRVf"
      },
      "outputs": [],
      "source": [
        "from langchain_community.vectorstores import FAISS\n",
        "\n",
        "db_faiss = FAISS.from_documents(\n",
        "            chunked_docs,\n",
        "            embeddings,\n",
        "            distance_strategy = DistanceStrategy.COSINE\n",
        "            )\n",
        "\n",
        "retriever = db_faiss.as_retriever(\n",
        "            # search_type =\"mmr\",               # \"similarity\"\n",
        "            search_kwargs={\"k\": 8},\n",
        "            )"
      ]
    },
    {
      "cell_type": "code",
      "execution_count": null,
      "metadata": {
        "id": "avY2ZgVGVJGF"
      },
      "outputs": [],
      "source": [
        "query1 = \"What Unat did in TÜBİTAK project?\"\n",
        "\n",
        "search_docs = db_faiss.similarity_search(query1)\n",
        "print(search_docs[0].page_content)"
      ]
    },
    {
      "cell_type": "code",
      "execution_count": null,
      "metadata": {
        "id": "GT259yk9zHDD"
      },
      "outputs": [],
      "source": [
        "docs_rel = retriever.get_relevant_documents(query1)\n",
        "docs_rel"
      ]
    },
    {
      "cell_type": "markdown",
      "metadata": {
        "id": "zvuQgKKGLTpJ"
      },
      "source": [
        "## 4) Reader - LLM"
      ]
    },
    {
      "cell_type": "code",
      "execution_count": null,
      "metadata": {
        "id": "zUNUoCBcLRMX"
      },
      "outputs": [],
      "source": [
        "import torch\n",
        "from transformers import AutoTokenizer, AutoModelForCausalLM, BitsAndBytesConfig\n",
        "\n",
        "model_name = \"HuggingFaceH4/zephyr-7b-alpha\"\n",
        "\n",
        "bnb_config = BitsAndBytesConfig(\n",
        "    load_in_4bit = True,\n",
        "    bnb_4bit_use_double_quant = True,\n",
        "    bnb_4bit_quant_type = \"nf4\",\n",
        "    bnb_4bit_compute_dtype = torch.bfloat16\n",
        ")\n",
        "\n",
        "model = AutoModelForCausalLM.from_pretrained(model_name,\n",
        "                                             quantization_config=bnb_config\n",
        "                                             )\n",
        "\n",
        "tokenizer = AutoTokenizer.from_pretrained(model_name,\n",
        "                                          # padding=True,\n",
        "                                          # truncation=True\n",
        "                                          )\n",
        "\n",
        "tokenizer.pad_token = tokenizer.eos_token"
      ]
    },
    {
      "cell_type": "code",
      "execution_count": 46,
      "metadata": {
        "id": "y5C83ys0MGQH"
      },
      "outputs": [],
      "source": [
        "from langchain.llms import HuggingFacePipeline\n",
        "from transformers import pipeline\n",
        "\n",
        "text_generation_pipeline = pipeline(\n",
        "    model=model,\n",
        "    tokenizer=tokenizer,\n",
        "    task=\"text-generation\",\n",
        "    temperature=0.01,\n",
        "    do_sample=True,\n",
        "    repetition_penalty=1.1,\n",
        "    return_full_text=True,\n",
        "    max_new_tokens=512,\n",
        "    # batch_size=2,\n",
        ")\n",
        "\n",
        "text_generation_pipeline.model.config.pad_token_id = text_generation_pipeline.model.config.eos_token_id\n",
        "\n",
        "llm = HuggingFacePipeline(pipeline=text_generation_pipeline)\n",
        "\n"
      ]
    },
    {
      "cell_type": "code",
      "execution_count": null,
      "metadata": {
        "id": "SBXaTunyVs7H"
      },
      "outputs": [],
      "source": [
        "docs_src = retriever.get_relevant_documents(query1)\n",
        "pretty_print_docs(docs_src)"
      ]
    },
    {
      "cell_type": "markdown",
      "metadata": {
        "id": "-HI7UUTZq4I3"
      },
      "source": [
        "## 6) Chain"
      ]
    },
    {
      "cell_type": "code",
      "execution_count": 56,
      "metadata": {
        "id": "Ryf2KW7dLhFI"
      },
      "outputs": [],
      "source": [
        "from langchain.chains import RetrievalQA\n",
        "qa_chain = RetrievalQA.from_chain_type(\n",
        "    llm=llm,\n",
        "    retriever=retriever,       # retriever or compression_retriever\n",
        "    # chain_type=\"refine\",\n",
        "    # return_source_documents=True,\n",
        "    )"
      ]
    },
    {
      "cell_type": "code",
      "execution_count": null,
      "metadata": {
        "id": "4AeX5INALktN"
      },
      "outputs": [],
      "source": [
        "# RAG-based Answer\n",
        "qa_chain({\"query\": query1})\n",
        "\n",
        "# # # only results:\n",
        "# print(chain({\"query\": query})[\"result\"])"
      ]
    },
    {
      "cell_type": "code",
      "source": [
        "print(qa_chain({\"query\": query1})[\"result\"])"
      ],
      "metadata": {
        "id": "koMKXJrm-MzF"
      },
      "execution_count": null,
      "outputs": []
    },
    {
      "cell_type": "code",
      "execution_count": null,
      "metadata": {
        "id": "keCpiNwWb-JJ"
      },
      "outputs": [],
      "source": [
        "# # def get_src_urls(src_docs):\n",
        "# #   for d in src_docs:\n",
        "# #     # print(\"1\")\n",
        "# #     # print(d.metadata[\"url\"])\n",
        "# #     print(d.metadata[\"source\"])\n",
        "\n",
        "\n",
        "from utils.utils_print import get_src_urls\n",
        "\n",
        "get_src_urls(qa_chain({\"query\": query1})[\"source_documents\"])"
      ]
    },
    {
      "cell_type": "markdown",
      "metadata": {
        "id": "xx-eDt-dMIMS"
      },
      "source": [
        "Prompt Template"
      ]
    },
    {
      "cell_type": "code",
      "execution_count": 66,
      "metadata": {
        "id": "At46nRQgJ9J_"
      },
      "outputs": [],
      "source": [
        "from langchain_core.output_parsers import StrOutputParser\n",
        "from langchain.prompts import PromptTemplate\n",
        "from langchain_core.runnables import RunnablePassthrough\n",
        "\n",
        "\n",
        "PROMPT_TEMP =  \"\"\"Use the following context to answer the question:\n",
        "{context}\n",
        "Question: {question}\n",
        "Helpful Answer:\"\"\"\n",
        "\n",
        "\n",
        "prompt = PromptTemplate(\n",
        "    input_variables=[\"context\", \"question\"],\n",
        "    template=PROMPT_TEMP,\n",
        ")\n",
        "\n",
        "llm_chain = prompt | llm | StrOutputParser()\n",
        "\n",
        "# llm_chain = (\n",
        "#     {\"context\": compression_retriever,  \"question\": RunnablePassthrough()}\n",
        "#     | prompt\n",
        "#     | llm\n",
        "#     | StrOutputParser()\n",
        "# )\n",
        "\n",
        "# llm_chain.invoke(query)"
      ]
    },
    {
      "cell_type": "code",
      "execution_count": null,
      "metadata": {
        "id": "UPcugVAaKBO8"
      },
      "outputs": [],
      "source": [
        "# LLM-based Answer\n",
        "llm_chain.invoke({\"context\": \"\", \"question\": query2})"
      ]
    },
    {
      "cell_type": "code",
      "source": [
        "# RAG Chain Answer\n",
        "from langchain_core.runnables import RunnablePassthrough\n",
        "\n",
        "rag_chain = {\"context\": retriever, \"question\": RunnablePassthrough()} | llm_chain\n",
        "rag_chain.invoke(query2)\n"
      ],
      "metadata": {
        "id": "s-bGTefg7sD7"
      },
      "execution_count": null,
      "outputs": []
    },
    {
      "cell_type": "markdown",
      "metadata": {
        "id": "ElUA8rWvMIMS"
      },
      "source": [
        "## 7) Evaluation"
      ]
    },
    {
      "cell_type": "code",
      "execution_count": null,
      "metadata": {
        "id": "WkKYzghhMIMS"
      },
      "outputs": [],
      "source": [
        "from datasets import Dataset\n",
        "\n",
        "# 1) Questions\n",
        "questions_dset = []\n",
        "\n",
        "# 2) Labels\n",
        "ground_truths_dset = []\n",
        "\n",
        "# 3) LLM Answers\n",
        "# 4) Retrivere Model's Contexts\n",
        "answers_rag = []\n",
        "contexts_rag = []\n",
        "\n",
        "for query in questions_dset:\n",
        "    answers_rag.append(rag_chain.invoke(query))\n",
        "    contexts_rag.append([d.page_content for d in comp_retriever.get_relevant_documents(query)])\n",
        "\n",
        "\n",
        "data_test_dict = {\n",
        "    \"question\": questions_dset,\n",
        "    \"answer\": answers_rag,\n",
        "    \"contexts\": contexts_rag,\n",
        "    \"ground_truths\": ground_truths_dset\n",
        "}\n",
        "\n",
        "\n",
        "test_dset = Dataset.from_dict(data_test_dict)"
      ]
    },
    {
      "cell_type": "code",
      "execution_count": null,
      "metadata": {
        "id": "xEYhagI7jeEK"
      },
      "outputs": [],
      "source": [
        "from ragas import evaluate\n",
        "from ragas.metrics import (\n",
        "    answer_relevancy,\n",
        "    context_relevancy,\n",
        "    context_recall,\n",
        "    context_precision,\n",
        "    faithfulness,\n",
        ")\n",
        "\n",
        "# select metrics to evaluate\n",
        "METRICS_RAGAS = [\n",
        "            # context_relevancy,\n",
        "            context_precision,\n",
        "            context_recall,\n",
        "            # faithfulness,\n",
        "            answer_relevancy,\n",
        "          ]\n",
        "\n",
        "\n",
        "result_testset = evaluate(\n",
        "    test_dset,\n",
        "    llm = llm,\n",
        "    embeddings = embeddings,\n",
        "    metrics=METRICS_RAGAS,\n",
        ")\n",
        "\n",
        "result_testset"
      ]
    },
    {
      "cell_type": "code",
      "execution_count": null,
      "metadata": {
        "id": "nuIGe1Y9vnry"
      },
      "outputs": [],
      "source": [
        "df_testset = result_testset.to_pandas()\n",
        "df_testset.head()"
      ]
    },
    {
      "cell_type": "markdown",
      "metadata": {
        "id": "x0HMDw_pWSO2"
      },
      "source": [
        "## Additional"
      ]
    },
    {
      "cell_type": "code",
      "execution_count": null,
      "metadata": {
        "id": "x4m37ZBssZaI"
      },
      "outputs": [],
      "source": [
        "!nvidia-smi\n",
        "torch.cuda.empty_cache()\n",
        "!nvidia-smi"
      ]
    },
    {
      "cell_type": "code",
      "source": [
        "!pip install matplotlib tqdm"
      ],
      "metadata": {
        "id": "l4OB0AId5dN1"
      },
      "execution_count": null,
      "outputs": []
    },
    {
      "cell_type": "code",
      "source": [
        "# import locale\n",
        "# locale.getpreferredencoding = lambda: \"UTF-8\"\n",
        "import matplotlib.pyplot as plt\n",
        "from tqdm.notebook import tqdm"
      ],
      "metadata": {
        "id": "XSpFs8eO5ciQ"
      },
      "execution_count": 6,
      "outputs": []
    },
    {
      "cell_type": "code",
      "source": [
        "lengths = [len(tokenizer.encode(doc.page_content)) for doc in tqdm(chunked_docs)]\n",
        "fig = pd.Series(lengths).hist()\n",
        "plt.title(\"Distribution of document lengths (# tokens)\")\n",
        "plt.show()"
      ],
      "metadata": {
        "colab": {
          "base_uri": "https://localhost:8080/",
          "height": 484,
          "referenced_widgets": [
            "d15d2dfd1e67445c84814a6e15c34834",
            "9251898746ba4fb7b499e18926196b73",
            "23fd07e654914e82a092d278025c7dd8",
            "763f2f21bcae44aca6181ea19094309e",
            "b6d4c2388da243388a90fc9118fef7e9",
            "149435dbfe4c42f7bbf768cc9df7d8d4",
            "5803b6d8a4e046b4bb35ea02ff104a5c",
            "d628dbb1bfbd49ab9ee7f57d0fc10580",
            "150154b3760a4b9782cf6c639311d204",
            "52467368377e4aed842bae5b81c0d562",
            "4866b11e5f724353830aafdd60363381"
          ]
        },
        "id": "YILgGJKM5blZ",
        "outputId": "ba60a4de-f3b0-40c3-c8e6-d512823abc87"
      },
      "execution_count": 62,
      "outputs": [
        {
          "output_type": "display_data",
          "data": {
            "text/plain": [
              "  0%|          | 0/34 [00:00<?, ?it/s]"
            ],
            "application/vnd.jupyter.widget-view+json": {
              "version_major": 2,
              "version_minor": 0,
              "model_id": "d15d2dfd1e67445c84814a6e15c34834"
            }
          },
          "metadata": {}
        },
        {
          "output_type": "display_data",
          "data": {
            "text/plain": [
              "<Figure size 640x480 with 1 Axes>"
            ],
            "image/png": "[encoded data removed]"
          },
          "metadata": {}
        }
      ]
    }
  ],
  "metadata": {
    "accelerator": "GPU",
    "colab": {
      "collapsed_sections": [
        "ElUA8rWvMIMS"
      ],
      "gpuType": "T4",
      "provenance": []
    },
    "kernelspec": {
      "display_name": "Python 3",
      "name": "python3"
    },
    "language_info": {
      "name": "python"
    },
    "widgets": {
      "application/vnd.jupyter.widget-state+json": {
        "d15d2dfd1e67445c84814a6e15c34834": {
          "model_module": "@jupyter-widgets/controls",
          "model_name": "HBoxModel",
          "model_module_version": "1.5.0",
          "state": {
            "_dom_classes": [],
            "_model_module": "@jupyter-widgets/controls",
            "_model_module_version": "1.5.0",
            "_model_name": "HBoxModel",
            "_view_count": null,
            "_view_module": "@jupyter-widgets/controls",
            "_view_module_version": "1.5.0",
            "_view_name": "HBoxView",
            "box_style": "",
            "children": [
              "IPY_MODEL_9251898746ba4fb7b499e18926196b73",
              "IPY_MODEL_23fd07e654914e82a092d278025c7dd8",
              "IPY_MODEL_763f2f21bcae44aca6181ea19094309e"
            ],
            "layout": "IPY_MODEL_b6d4c2388da243388a90fc9118fef7e9"
          }
        },
        "9251898746ba4fb7b499e18926196b73": {
          "model_module": "@jupyter-widgets/controls",
          "model_name": "HTMLModel",
          "model_module_version": "1.5.0",
          "state": {
            "_dom_classes": [],
            "_model_module": "@jupyter-widgets/controls",
            "_model_module_version": "1.5.0",
            "_model_name": "HTMLModel",
            "_view_count": null,
            "_view_module": "@jupyter-widgets/controls",
            "_view_module_version": "1.5.0",
            "_view_name": "HTMLView",
            "description": "",
            "description_tooltip": null,
            "layout": "IPY_MODEL_149435dbfe4c42f7bbf768cc9df7d8d4",
            "placeholder": "​",
            "style": "IPY_MODEL_5803b6d8a4e046b4bb35ea02ff104a5c",
            "value": "100%"
          }
        },
        "23fd07e654914e82a092d278025c7dd8": {
          "model_module": "@jupyter-widgets/controls",
          "model_name": "FloatProgressModel",
          "model_module_version": "1.5.0",
          "state": {
            "_dom_classes": [],
            "_model_module": "@jupyter-widgets/controls",
            "_model_module_version": "1.5.0",
            "_model_name": "FloatProgressModel",
            "_view_count": null,
            "_view_module": "@jupyter-widgets/controls",
            "_view_module_version": "1.5.0",
            "_view_name": "ProgressView",
            "bar_style": "success",
            "description": "",
            "description_tooltip": null,
            "layout": "IPY_MODEL_d628dbb1bfbd49ab9ee7f57d0fc10580",
            "max": 34,
            "min": 0,
            "orientation": "horizontal",
            "style": "IPY_MODEL_150154b3760a4b9782cf6c639311d204",
            "value": 34
          }
        },
        "763f2f21bcae44aca6181ea19094309e": {
          "model_module": "@jupyter-widgets/controls",
          "model_name": "HTMLModel",
          "model_module_version": "1.5.0",
          "state": {
            "_dom_classes": [],
            "_model_module": "@jupyter-widgets/controls",
            "_model_module_version": "1.5.0",
            "_model_name": "HTMLModel",
            "_view_count": null,
            "_view_module": "@jupyter-widgets/controls",
            "_view_module_version": "1.5.0",
            "_view_name": "HTMLView",
            "description": "",
            "description_tooltip": null,
            "layout": "IPY_MODEL_52467368377e4aed842bae5b81c0d562",
            "placeholder": "​",
            "style": "IPY_MODEL_4866b11e5f724353830aafdd60363381",
            "value": " 34/34 [00:00&lt;00:00, 908.14it/s]"
          }
        },
        "b6d4c2388da243388a90fc9118fef7e9": {
          "model_module": "@jupyter-widgets/base",
          "model_name": "LayoutModel",
          "model_module_version": "1.2.0",
          "state": {
            "_model_module": "@jupyter-widgets/base",
            "_model_module_version": "1.2.0",
            "_model_name": "LayoutModel",
            "_view_count": null,
            "_view_module": "@jupyter-widgets/base",
            "_view_module_version": "1.2.0",
            "_view_name": "LayoutView",
            "align_content": null,
            "align_items": null,
            "align_self": null,
            "border": null,
            "bottom": null,
            "display": null,
            "flex": null,
            "flex_flow": null,
            "grid_area": null,
            "grid_auto_columns": null,
            "grid_auto_flow": null,
            "grid_auto_rows": null,
            "grid_column": null,
            "grid_gap": null,
            "grid_row": null,
            "grid_template_areas": null,
            "grid_template_columns": null,
            "grid_template_rows": null,
            "height": null,
            "justify_content": null,
            "justify_items": null,
            "left": null,
            "margin": null,
            "max_height": null,
            "max_width": null,
            "min_height": null,
            "min_width": null,
            "object_fit": null,
            "object_position": null,
            "order": null,
            "overflow": null,
            "overflow_x": null,
            "overflow_y": null,
            "padding": null,
            "right": null,
            "top": null,
            "visibility": null,
            "width": null
          }
        },
        "149435dbfe4c42f7bbf768cc9df7d8d4": {
          "model_module": "@jupyter-widgets/base",
          "model_name": "LayoutModel",
          "model_module_version": "1.2.0",
          "state": {
            "_model_module": "@jupyter-widgets/base",
            "_model_module_version": "1.2.0",
            "_model_name": "LayoutModel",
            "_view_count": null,
            "_view_module": "@jupyter-widgets/base",
            "_view_module_version": "1.2.0",
            "_view_name": "LayoutView",
            "align_content": null,
            "align_items": null,
            "align_self": null,
            "border": null,
            "bottom": null,
            "display": null,
            "flex": null,
            "flex_flow": null,
            "grid_area": null,
            "grid_auto_columns": null,
            "grid_auto_flow": null,
            "grid_auto_rows": null,
            "grid_column": null,
            "grid_gap": null,
            "grid_row": null,
            "grid_template_areas": null,
            "grid_template_columns": null,
            "grid_template_rows": null,
            "height": null,
            "justify_content": null,
            "justify_items": null,
            "left": null,
            "margin": null,
            "max_height": null,
            "max_width": null,
            "min_height": null,
            "min_width": null,
            "object_fit": null,
            "object_position": null,
            "order": null,
            "overflow": null,
            "overflow_x": null,
            "overflow_y": null,
            "padding": null,
            "right": null,
            "top": null,
            "visibility": null,
            "width": null
          }
        },
        "5803b6d8a4e046b4bb35ea02ff104a5c": {
          "model_module": "@jupyter-widgets/controls",
          "model_name": "DescriptionStyleModel",
          "model_module_version": "1.5.0",
          "state": {
            "_model_module": "@jupyter-widgets/controls",
            "_model_module_version": "1.5.0",
            "_model_name": "DescriptionStyleModel",
            "_view_count": null,
            "_view_module": "@jupyter-widgets/base",
            "_view_module_version": "1.2.0",
            "_view_name": "StyleView",
            "description_width": ""
          }
        },
        "d628dbb1bfbd49ab9ee7f57d0fc10580": {
          "model_module": "@jupyter-widgets/base",
          "model_name": "LayoutModel",
          "model_module_version": "1.2.0",
          "state": {
            "_model_module": "@jupyter-widgets/base",
            "_model_module_version": "1.2.0",
            "_model_name": "LayoutModel",
            "_view_count": null,
            "_view_module": "@jupyter-widgets/base",
            "_view_module_version": "1.2.0",
            "_view_name": "LayoutView",
            "align_content": null,
            "align_items": null,
            "align_self": null,
            "border": null,
            "bottom": null,
            "display": null,
            "flex": null,
            "flex_flow": null,
            "grid_area": null,
            "grid_auto_columns": null,
            "grid_auto_flow": null,
            "grid_auto_rows": null,
            "grid_column": null,
            "grid_gap": null,
            "grid_row": null,
            "grid_template_areas": null,
            "grid_template_columns": null,
            "grid_template_rows": null,
            "height": null,
            "justify_content": null,
            "justify_items": null,
            "left": null,
            "margin": null,
            "max_height": null,
            "max_width": null,
            "min_height": null,
            "min_width": null,
            "object_fit": null,
            "object_position": null,
            "order": null,
            "overflow": null,
            "overflow_x": null,
            "overflow_y": null,
            "padding": null,
            "right": null,
            "top": null,
            "visibility": null,
            "width": null
          }
        },
        "150154b3760a4b9782cf6c639311d204": {
          "model_module": "@jupyter-widgets/controls",
          "model_name": "ProgressStyleModel",
          "model_module_version": "1.5.0",
          "state": {
            "_model_module": "@jupyter-widgets/controls",
            "_model_module_version": "1.5.0",
            "_model_name": "ProgressStyleModel",
            "_view_count": null,
            "_view_module": "@jupyter-widgets/base",
            "_view_module_version": "1.2.0",
            "_view_name": "StyleView",
            "bar_color": null,
            "description_width": ""
          }
        },
        "52467368377e4aed842bae5b81c0d562": {
          "model_module": "@jupyter-widgets/base",
          "model_name": "LayoutModel",
          "model_module_version": "1.2.0",
          "state": {
            "_model_module": "@jupyter-widgets/base",
            "_model_module_version": "1.2.0",
            "_model_name": "LayoutModel",
            "_view_count": null,
            "_view_module": "@jupyter-widgets/base",
            "_view_module_version": "1.2.0",
            "_view_name": "LayoutView",
            "align_content": null,
            "align_items": null,
            "align_self": null,
            "border": null,
            "bottom": null,
            "display": null,
            "flex": null,
            "flex_flow": null,
            "grid_area": null,
            "grid_auto_columns": null,
            "grid_auto_flow": null,
            "grid_auto_rows": null,
            "grid_column": null,
            "grid_gap": null,
            "grid_row": null,
            "grid_template_areas": null,
            "grid_template_columns": null,
            "grid_template_rows": null,
            "height": null,
            "justify_content": null,
            "justify_items": null,
            "left": null,
            "margin": null,
            "max_height": null,
            "max_width": null,
            "min_height": null,
            "min_width": null,
            "object_fit": null,
            "object_position": null,
            "order": null,
            "overflow": null,
            "overflow_x": null,
            "overflow_y": null,
            "padding": null,
            "right": null,
            "top": null,
            "visibility": null,
            "width": null
          }
        },
        "4866b11e5f724353830aafdd60363381": {
          "model_module": "@jupyter-widgets/controls",
          "model_name": "DescriptionStyleModel",
          "model_module_version": "1.5.0",
          "state": {
            "_model_module": "@jupyter-widgets/controls",
            "_model_module_version": "1.5.0",
            "_model_name": "DescriptionStyleModel",
            "_view_count": null,
            "_view_module": "@jupyter-widgets/base",
            "_view_module_version": "1.2.0",
            "_view_name": "StyleView",
            "description_width": ""
          }
        }
      }
    }
  },
  "nbformat": 4,
  "nbformat_minor": 0
}